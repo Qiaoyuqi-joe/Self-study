{
 "cells": [
  {
   "cell_type": "markdown",
   "id": "8b1b81a0",
   "metadata": {},
   "source": [
    "如果在将所有大写字符转换为小写字符、并移除所有非字母数字字符之后，短语正着读和反着读都一样。则可以认为该短语是一个 回文串 。\n",
    "\n",
    "字母和数字都属于字母数字字符。\n",
    "\n",
    "给你一个字符串 s，如果它是 回文串 ，返回 true ；否则，返回 false 。\n",
    "\n",
    " \n",
    "\n",
    "示例 1：\n",
    "\n",
    "输入: s = \"A man, a plan, a canal: Panama\"\n",
    "输出：true\n",
    "解释：\"amanaplanacanalpanama\" 是回文串。\n",
    "示例 2：\n",
    "\n",
    "输入：s = \"race a car\"\n",
    "输出：false\n",
    "解释：\"raceacar\" 不是回文串。\n",
    "示例 3：\n",
    "\n",
    "输入：s = \" \"\n",
    "输出：true\n",
    "解释：在移除非字母数字字符之后，s 是一个空字符串 \"\" 。\n",
    "由于空字符串正着反着读都一样，所以是回文串。"
   ]
  },
  {
   "cell_type": "code",
   "execution_count": null,
   "id": "5e6e3d49",
   "metadata": {},
   "outputs": [],
   "source": [
    "#双指针\n",
    "\n",
    "class Solution:\n",
    "    def isPalindrome(self,s:str)->bool:\n",
    "        s = ''.join(ch.lower() for ch in s if ch.isalnum())\n",
    "        i,j=0,len(s)-1\n",
    "        while i<j:\n",
    "            if s[i]!=s[j]:\n",
    "                return False\n",
    "            i += 1\n",
    "            j += 1\n",
    "        return True\n",
    "\n",
    "\n",
    "            \n",
    "            \n"
   ]
  }
 ],
 "metadata": {
  "kernelspec": {
   "display_name": "base",
   "language": "python",
   "name": "python3"
  },
  "language_info": {
   "name": "python",
   "version": "3.12.4"
  }
 },
 "nbformat": 4,
 "nbformat_minor": 5
}
