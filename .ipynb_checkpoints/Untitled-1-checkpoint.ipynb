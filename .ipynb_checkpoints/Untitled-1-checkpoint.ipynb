{
 "cells": [
  {
   "cell_type": "markdown",
   "metadata": {},
   "source": [
    "2025/10/13\n",
    "\n",
    "掌握迭代器 (__iter__, __next__) 的机制\n",
    "\n",
    "理解生成器 (yield) 的本质与优势\n",
    "\n",
    "体会 Python 的「协议导向设计」和「惰性求值」特性\n",
    "\n",
    "写一个小练习：生成器版文件行统计脚本\n",
    "\n",
    "刷 2 道数组题热身（Two Sum + Remove Duplicates）\n"
   ]
  },
  {
   "cell_type": "markdown",
   "metadata": {},
   "source": [
    "迭代器 Iterator 可以按顺序取出元素的对象\n"
   ]
  },
  {
   "cell_type": "code",
   "execution_count": null,
   "metadata": {},
   "outputs": [],
   "source": [
    "nums = [10,20,30]\n",
    "it = iter(nums)\n",
    "\n",
    "print(next(it))\n",
    "print(next(it))\n",
    "print(next(it))\n",
    "print(next(it))\n",
    "#iter(nums)调用的nums._iter_()\n",
    "#next(it)调用的it._next_()"
   ]
  }
 ],
 "metadata": {
  "kernelspec": {
   "display_name": "base",
   "language": "python",
   "name": "python3"
  },
  "language_info": {
   "name": "python",
   "version": "3.12.4"
  }
 },
 "nbformat": 4,
 "nbformat_minor": 2
}
