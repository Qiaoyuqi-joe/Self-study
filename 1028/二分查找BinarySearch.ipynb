{
 "cells": [
  {
   "cell_type": "markdown",
   "id": "b30c4e3a",
   "metadata": {},
   "source": [
    "二分法的核心是通过不断缩小「搜索区间」来高效查找目标，而区间的定义（左闭右闭 / 左闭右开）直接决定了循环条件和边界调整的逻辑。下面分两类详细讲解：\n",
    "一、左闭右闭区间 [left, right]\n",
    "1. 区间定义\n",
    "表示搜索范围是 left 到 right 的所有元素，包含 left 和 right 本身。\n",
    "例如：nums = [1,2,3,4,5]，[1,3] 表示搜索 nums[1]、nums[2]、nums[3]（即 2、3、4）。\n",
    "2. 初始化\n",
    "left = 0（起始下标）\n",
    "right = len(nums) - 1（最后一个元素的下标，因为包含 right）\n",
    "3. 循环条件\n",
    "while left <= right\n",
    "原因：当 left == right 时，区间 [left, right] 仍有一个元素（nums[left]）需要检查，循环应继续；当 left > right 时，区间为空，循环终止。\n",
    "4. 中间值计算\n",
    "mid = (left + right) // 2（整数除法，确保 mid 是整数下标）\n",
    "mid_val = nums[mid]（中间下标对应的元素值）\n",
    "5. 边界调整逻辑\n",
    "根据 mid_val 与 target 的比较结果，收缩区间：\n",
    "若 mid_val == target：找到目标，返回 mid（下标）。\n",
    "若 mid_val < target：目标在右侧（mid 右侧的元素），因此左边界右移，跳过 mid（因为 mid 已确认不是目标）：\n",
    "left = mid + 1\n",
    "若 mid_val > target：目标在左侧（mid 左侧的元素），因此右边界左移，跳过 mid：\n",
    "right = mid - 1\n"
   ]
  },
  {
   "cell_type": "code",
   "execution_count": null,
   "id": "f32f7b67",
   "metadata": {},
   "outputs": [],
   "source": [
    "from typing import List\n",
    "\n",
    "class Solution:\n",
    "    def search(self, nums: List[int], target: int) -> int:\n",
    "        left = 0\n",
    "        right = len(nums) - 1  # 左闭右闭：right 是最后一个元素下标\n",
    "        \n",
    "        while left <= right:  # 区间不为空（包含 left == right 的情况）\n",
    "            mid = (left + right) // 2\n",
    "            mid_val = nums[mid]\n",
    "            \n",
    "            if mid_val == target:\n",
    "                return mid\n",
    "            elif mid_val < target:\n",
    "                left = mid + 1  # 目标在右侧，左边界右移\n",
    "            else:\n",
    "                right = mid - 1  # 目标在左侧，右边界左移\n",
    "        \n",
    "        return -1  # 区间为空，未找到目标"
   ]
  },
  {
   "cell_type": "markdown",
   "id": "e1b00348",
   "metadata": {},
   "source": [
    "二、左闭右开区间 [left, right)\n",
    "1. 区间定义\n",
    "表示搜索范围是 left 到 right-1 的所有元素，包含 left，但不包含 right。\n",
    "例如：nums = [1,2,3,4,5]，[1,3) 表示搜索 nums[1]、nums[2]（即 2、3），不包含 nums[3]。\n",
    "2. 初始化\n",
    "left = 0（起始下标）\n",
    "right = len(nums)（因为不包含 right，所以初始右边界是数组长度，覆盖所有元素）\n",
    "3. 循环条件\n",
    "while left < right\n",
    "原因：当 left == right 时，区间 [left, right) 为空（没有元素可查），循环终止；当 left < right 时，区间仍有元素。\n",
    "4. 中间值计算\n",
    "同左闭右闭：mid = (left + right) // 2，mid_val = nums[mid]\n",
    "5. 边界调整逻辑\n",
    "若 mid_val == target：找到目标，返回 mid。\n",
    "若 mid_val < target：目标在右侧（mid 右侧的元素），左边界右移（跳过 mid）：\n",
    "left = mid + 1（原因：mid 已确认不是目标，新左边界从 mid+1 开始）\n",
    "若 mid_val > target：目标在左侧（mid 左侧的元素），右边界左移到 mid（因为区间不包含 right，所以 right = mid 表示新区间是 [left, mid)，刚好排除 mid）：\n",
    "right = mid"
   ]
  },
  {
   "cell_type": "code",
   "execution_count": null,
   "id": "4abdfd31",
   "metadata": {},
   "outputs": [],
   "source": [
    "from typing import List\n",
    "\n",
    "class Solution:\n",
    "    def search(self, nums: List[int], target: int) -> int:\n",
    "        left = 0\n",
    "        right = len(nums)  # 左闭右开：right 是数组长度（不包含在区间内）\n",
    "        \n",
    "        while left < right:  # 区间不为空（left < right 才有元素）\n",
    "            mid = (left + right) // 2\n",
    "            mid_val = nums[mid]\n",
    "            \n",
    "            if mid_val == target:\n",
    "                return mid\n",
    "            elif mid_val < target:\n",
    "                left = mid + 1  # 目标在右侧，左边界右移\n",
    "            else:\n",
    "                right = mid  # 目标在左侧，右边界左移到 mid（不包含 mid）\n",
    "        \n",
    "        return -1  # 区间为空，未找到目标"
   ]
  }
 ],
 "metadata": {
  "kernelspec": {
   "display_name": "base",
   "language": "python",
   "name": "python3"
  },
  "language_info": {
   "name": "python",
   "version": "3.12.4"
  }
 },
 "nbformat": 4,
 "nbformat_minor": 5
}
