{
 "cells": [
  {
   "cell_type": "markdown",
   "id": "2e7ab1ff",
   "metadata": {},
   "source": [
    "滑动窗口"
   ]
  },
  {
   "cell_type": "code",
   "execution_count": null,
   "id": "9dec9833",
   "metadata": {},
   "outputs": [],
   "source": [
    "#固定长度\n",
    "#一个整数数组 固定长度k 找长度k连续子数组里面元素和max 并返回\n",
    "\n",
    "def max_sum_len_k(nums,k):\n",
    "    s = sum(nums[:k]) #右端点到k\n",
    "    ans = s #目前max就是首个窗口和\n",
    "    #切片0-k-1 浅拷贝 求和\n",
    "\n",
    "    for i in range(k,len(nums)):\n",
    "        s+=nums[i]-nums[i-k]\n",
    "        ans = max(ans,s)\n",
    "        return ans\n"
   ]
  },
  {
   "cell_type": "markdown",
   "id": "46a30cea",
   "metadata": {},
   "source": [
    "关于defaultdict  python自带的默认值工厂字典\n",
    "\n",
    "cnt = defaultdict(int)  #不存在的key默认0\n",
    "grp = defaultdict(list) #不存在key 变成【】\n",
    "seen = defaultdict(set) #不存在key 变成set（）\n",
    "\n",
    "\n",
    "用法\n",
    "\n"
   ]
  },
  {
   "cell_type": "code",
   "execution_count": 2,
   "id": "d9713cc6",
   "metadata": {},
   "outputs": [
    {
     "name": "stdout",
     "output_type": "stream",
     "text": [
      "defaultdict(<class 'int'>, {'a': 2, 'n': 1, 'c': 1})\n"
     ]
    }
   ],
   "source": [
    "#计数、频次\n",
    "from collections import defaultdict\n",
    "\n",
    "cnt = defaultdict(int)\n",
    "for ch in \"anac\":\n",
    "    cnt[ch]+=1\n",
    "print(cnt)"
   ]
  },
  {
   "cell_type": "code",
   "execution_count": 7,
   "id": "d2fc5e7c",
   "metadata": {},
   "outputs": [],
   "source": [
    "#可变滑动窗口\n",
    "from collections import defaultdict\n",
    "\n",
    "def length_of_longest_substring(s: str) -> int:\n",
    "    cnt = defaultdict(int)\n",
    "    left = 0\n",
    "    ans = 0\n",
    "    for right,ch in enumerate(s):\n",
    "        cnt[ch] += 1\n",
    "        while cnt[ch] >1:\n",
    "            cnt[s[left]] -= 1\n",
    "            left += 1\n",
    "        ans = max(ans,right-left+1)\n",
    "    return ans\n",
    "\n",
    "\n",
    "assert length_of_longest_substring(\"abcabcbb\") == 3\n"
   ]
  },
  {
   "cell_type": "code",
   "execution_count": null,
   "id": "ecae5cc5",
   "metadata": {},
   "outputs": [],
   "source": [
    "def length_of_longest_substring_set(s: str) -> int:\n",
    "    cnt = defaultdict{int}\n",
    "    left = 0\n",
    "    for ch,right in enumerate s:\n",
    "        cnt[ch] += 1\n",
    "        while cnt[ch] >1:\n",
    "            cnt[ch]-=1\n",
    "            left += 1\n",
    "        ans = max(ans,right-left+1)\n",
    "    return"
   ]
  },
  {
   "cell_type": "code",
   "execution_count": null,
   "id": "5c209099",
   "metadata": {},
   "outputs": [],
   "source": [
    "class Solution:\n",
    "    def lengthOfLongestSubstring(self, s: str) -> int:\n",
    "        seen = set()\n",
    "        left = 0\n",
    "        ans = 0\n",
    "        for right, ch in enumerate(s):\n",
    "            # 如果 ch 已在窗口中，收缩到合法\n",
    "            while ch in seen:\n",
    "                seen.remove(s[left])\n",
    "                left += 1\n",
    "            # 扩张\n",
    "            seen.add(ch)\n",
    "            ans = max(ans, right - left + 1)\n",
    "        return ans\n"
   ]
  },
  {
   "cell_type": "code",
   "execution_count": null,
   "id": "affb8544",
   "metadata": {},
   "outputs": [],
   "source": [
    "def length_of_longest_substring_set(s: str) -> int:\n",
    "    seen = set()\n",
    "    left = 0\n",
    "    ans = 0\n",
    "    for right, ch in enumerate(s):\n",
    "        while ch in seen:            # 有重复就从左边移除\n",
    "            seen.remove(s[left])\n",
    "            left += 1\n",
    "        seen.add(ch)\n",
    "        ans = max(ans, right - left + 1)\n",
    "    return ans\n"
   ]
  }
 ],
 "metadata": {
  "kernelspec": {
   "display_name": "base",
   "language": "python",
   "name": "python3"
  },
  "language_info": {
   "codemirror_mode": {
    "name": "ipython",
    "version": 3
   },
   "file_extension": ".py",
   "mimetype": "text/x-python",
   "name": "python",
   "nbconvert_exporter": "python",
   "pygments_lexer": "ipython3",
   "version": "3.12.4"
  }
 },
 "nbformat": 4,
 "nbformat_minor": 5
}
