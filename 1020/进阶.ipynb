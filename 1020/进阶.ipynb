{
 "cells": [
  {
   "cell_type": "markdown",
   "id": "2e7ab1ff",
   "metadata": {},
   "source": [
    "滑动窗口"
   ]
  },
  {
   "cell_type": "code",
   "execution_count": 2,
   "id": "9dec9833",
   "metadata": {},
   "outputs": [],
   "source": [
    "#固定长度\n",
    "#一个整数数组 固定长度k 找长度k连续子数组里面元素和max 并返回\n",
    "\n",
    "def max_sum_len_k(nums,k):\n",
    "    s = sum(nums[:k])\n",
    "    ans = s#目前max就是首个窗口和\n",
    "    #切片0-k-1 浅拷贝 求和\n",
    "\n",
    "    for i in range(k,len(nums)):\n",
    "        s+=nums[i]-nums[i-k]\n",
    "        ans = max(ans,s)\n",
    "        return ans\n"
   ]
  }
 ],
 "metadata": {
  "kernelspec": {
   "display_name": "base",
   "language": "python",
   "name": "python3"
  },
  "language_info": {
   "codemirror_mode": {
    "name": "ipython",
    "version": 3
   },
   "file_extension": ".py",
   "mimetype": "text/x-python",
   "name": "python",
   "nbconvert_exporter": "python",
   "pygments_lexer": "ipython3",
   "version": "3.12.4"
  }
 },
 "nbformat": 4,
 "nbformat_minor": 5
}
