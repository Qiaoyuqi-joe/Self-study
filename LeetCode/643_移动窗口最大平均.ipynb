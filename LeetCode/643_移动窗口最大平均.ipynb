{
 "cells": [
  {
   "cell_type": "markdown",
   "id": "be96ce5b",
   "metadata": {},
   "source": [
    "643. 子数组最大平均数 I\n",
    "简单\n",
    "相关标签\n",
    "premium lock icon\n",
    "相关企业\n",
    "给你一个由 n 个元素组成的整数数组 nums 和一个整数 k 。\n",
    "\n",
    "请你找出平均数最大且 长度为 k 的连续子数组，并输出该最大平均数。\n",
    "\n",
    "任何误差小于 10-5 的答案都将被视为正确答案。\n",
    "\n",
    " \n",
    "\n",
    "示例 1：\n",
    "\n",
    "输入：nums = [1,12,-5,-6,50,3], k = 4\n",
    "输出：12.75\n",
    "解释：最大平均数 (12-5-6+50)/4 = 51/4 = 12.75\n",
    "示例 2：\n",
    "\n",
    "输入：nums = [5], k = 1\n",
    "输出：5.00000"
   ]
  },
  {
   "cell_type": "code",
   "execution_count": 5,
   "id": "8a538f29",
   "metadata": {},
   "outputs": [
    {
     "name": "stdout",
     "output_type": "stream",
     "text": [
      "15.666666666666666\n"
     ]
    }
   ],
   "source": [
    "from typing import List\n",
    "\n",
    "class Solution:\n",
    "    def findMaxAverage(self, nums: List[int], k:int) -> float:\n",
    "        n = len(nums)\n",
    "        s = sum(nums[:k])\n",
    "        window_max = s\n",
    "\n",
    "        for i in range(k,n):\n",
    "            s = s+nums[i]-nums[i-k]\n",
    "            window_max = max(window_max,s)\n",
    "        return window_max/k\n",
    "\n",
    "\n",
    "solution = Solution()\n",
    "nums = [1,12,-5,-6,50,3]\n",
    "print(solution.findMaxAverage(nums,3))\n"
   ]
  }
 ],
 "metadata": {
  "kernelspec": {
   "display_name": "base",
   "language": "python",
   "name": "python3"
  },
  "language_info": {
   "codemirror_mode": {
    "name": "ipython",
    "version": 3
   },
   "file_extension": ".py",
   "mimetype": "text/x-python",
   "name": "python",
   "nbconvert_exporter": "python",
   "pygments_lexer": "ipython3",
   "version": "3.12.4"
  }
 },
 "nbformat": 4,
 "nbformat_minor": 5
}
