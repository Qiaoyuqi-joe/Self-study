{
 "cells": [
  {
   "cell_type": "markdown",
   "id": "a05152c7",
   "metadata": {},
   "source": [
    "739. 每日温度\n",
    "已解答\n",
    "中等\n",
    "相关标签\n",
    "premium lock icon\n",
    "相关企业\n",
    "提示\n",
    "给定一个整数数组 temperatures ，表示每天的温度，返回一个数组 answer ，其中 answer[i] 是指对于第 i 天，下一个更高温度出现在几天后。如果气温在这之后都不会升高，请在该位置用 0 来代替。\n",
    "\n",
    " \n",
    "\n",
    "示例 1:\n",
    "\n",
    "输入: temperatures = [73,74,75,71,69,72,76,73]\n",
    "输出: [1,1,4,2,1,1,0,0]\n",
    "示例 2:\n",
    "\n",
    "输入: temperatures = [30,40,50,60]\n",
    "输出: [1,1,1,0]\n",
    "示例 3:\n",
    "\n",
    "输入: temperatures = [30,60,90]\n",
    "输出: [1,1,0]"
   ]
  },
  {
   "cell_type": "code",
   "execution_count": null,
   "id": "54ba5294",
   "metadata": {},
   "outputs": [],
   "source": [
    "class Solution:\n",
    "    def dailyTemperatures(self, temperatures: List[int]) -> List[int]:\n",
    "        n = len(temperatures)\n",
    "        result = [0]*n\n",
    "        stack = []\n",
    "        for i in range (n):\n",
    "            while stack and temperatures[i] > temperatures[stack[pop]]:\n",
    "                top = stack.pop()\n",
    "                result[top] = i-top\n",
    "            stack.append(i)\n",
    "        return result\n",
    "\n",
    "        "
   ]
  }
 ],
 "metadata": {
  "kernelspec": {
   "display_name": "base",
   "language": "python",
   "name": "python3"
  },
  "language_info": {
   "name": "python",
   "version": "3.12.4"
  }
 },
 "nbformat": 4,
 "nbformat_minor": 5
}
