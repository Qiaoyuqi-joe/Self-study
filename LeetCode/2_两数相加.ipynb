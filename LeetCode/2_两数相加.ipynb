{
 "cells": [
  {
   "cell_type": "markdown",
   "id": "029960a0",
   "metadata": {},
   "source": [
    "关于dummy dummy.next tail\n",
    "dummy 是假的头节点 链表的入口 不移动\n",
    "dummy.next 链表头部 真是的起点 不断延长 一直连着新的node\n",
    "tail 当前链表的末尾 会随着链表增长而移动 每次都指向新的节点"
   ]
  },
  {
   "cell_type": "code",
   "execution_count": 4,
   "id": "fb14ca86",
   "metadata": {},
   "outputs": [],
   "source": [
    "#Definition for singly-linked list.\n",
    "from typing import Optional\n",
    "class ListNode:\n",
    "    def __init__(self, val=0, next=None):\n",
    "        self.val = val\n",
    "        self.next = next\n",
    "class Solution:\n",
    "    def addTwoNumbers(self, l1: Optional[ListNode], l2: Optional[ListNode]) -> Optional[ListNode]:\n",
    "        p = l1\n",
    "        q = l2\n",
    "        carry = 0\n",
    "        dummy = ListNode(0)\n",
    "        tail = dummy\n",
    "        while p or q or carry:\n",
    "            x = p.val if p else 0\n",
    "            y = q.val if q else 0\n",
    "            s = x+y+carry\n",
    "\n",
    "            carry = s//10\n",
    "            tail.next=ListNode(s%10)\n",
    "            tail = tail.next\n",
    "\n",
    "\n",
    "            if p: p = p.next\n",
    "            if q: q = q.next\n",
    "\n",
    "        return dummy.next\n",
    "         \n"
   ]
  }
 ],
 "metadata": {
  "kernelspec": {
   "display_name": "base",
   "language": "python",
   "name": "python3"
  },
  "language_info": {
   "codemirror_mode": {
    "name": "ipython",
    "version": 3
   },
   "file_extension": ".py",
   "mimetype": "text/x-python",
   "name": "python",
   "nbconvert_exporter": "python",
   "pygments_lexer": "ipython3",
   "version": "3.12.4"
  }
 },
 "nbformat": 4,
 "nbformat_minor": 5
}
