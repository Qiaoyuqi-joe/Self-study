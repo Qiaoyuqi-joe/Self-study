{
 "cells": [
  {
   "cell_type": "markdown",
   "id": "88e5cc68",
   "metadata": {},
   "source": [
    "\n",
    "704. 二分查找\n",
    "简单\n",
    "相关标签\n",
    "premium lock icon\n",
    "相关企业\n",
    "给定一个 n 个元素有序的（升序）整型数组 nums 和一个目标值 target  ，写一个函数搜索 nums 中的 target，如果 target 存在返回下标，否则返回 -1。\n",
    "\n",
    "你必须编写一个具有 O(log n) 时间复杂度的算法。\n",
    "\n",
    "\n",
    "示例 1:\n",
    "\n",
    "输入: nums = [-1,0,3,5,9,12], target = 9\n",
    "输出: 4\n",
    "解释: 9 出现在 nums 中并且下标为 4\n",
    "示例 2:\n",
    "\n",
    "输入: nums = [-1,0,3,5,9,12], target = 2\n",
    "输出: -1\n",
    "解释: 2 不存在 nums 中因此返回 -1\n",
    " "
   ]
  },
  {
   "cell_type": "markdown",
   "id": "0183ce20",
   "metadata": {},
   "source": [
    "class Solution:\n",
    "    def search(self, nums: List[int], target: int) -> int:\n",
    "        n = len(nums)\n",
    "        left = 0\n",
    "        right = len(nums)\n",
    "        while left<right:\n",
    "            middle = (left+right)//2\n",
    "            middle_val = nums[middle]\n",
    "            if middle_val<target:\n",
    "                left = middle+1\n",
    "            elif middle_val>target:\n",
    "                right = middle\n",
    "            else:\n",
    "                return middle\n",
    "        return -1\n",
    "\n",
    "\n"
   ]
  }
 ],
 "metadata": {
  "kernelspec": {
   "display_name": "base",
   "language": "python",
   "name": "python3"
  },
  "language_info": {
   "name": "python",
   "version": "3.12.4"
  }
 },
 "nbformat": 4,
 "nbformat_minor": 5
}
