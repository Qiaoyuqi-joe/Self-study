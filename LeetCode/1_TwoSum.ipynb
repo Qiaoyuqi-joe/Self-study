{
 "cells": [
  {
   "cell_type": "code",
   "execution_count": null,
   "id": "53581334",
   "metadata": {},
   "outputs": [],
   "source": []
  },
  {
   "cell_type": "markdown",
   "id": "991ec76b",
   "metadata": {},
   "source": [
    "给定一个整数数组 nums 和一个整数目标值 target，请你在该数组中找出 和为目标值 target  的那 两个 整数，并返回它们的数组下标。\n",
    "\n",
    "你可以假设每种输入只会对应一个答案，并且你不能使用两次相同的元素。\n",
    "\n",
    "你可以按任意顺序返回答案。\n",
    "\n",
    " \n",
    "\n",
    "示例 1：\n",
    "\n",
    "输入：nums = [2,7,11,15], target = 9\n",
    "输出：[0,1]\n",
    "解释：因为 nums[0] + nums[1] == 9 ，返回 [0, 1] 。\n",
    "示例 2：\n",
    "\n",
    "输入：nums = [3,2,4], target = 6\n",
    "输出：[1,2]\n",
    "示例 3：\n",
    "\n",
    "输入：nums = [3,3], target = 6\n",
    "输出：[0,1]"
   ]
  },
  {
   "cell_type": "code",
   "execution_count": null,
   "id": "1608590e",
   "metadata": {},
   "outputs": [],
   "source": [
    "#解法1 暴力解法\n",
    "class Solution:\n",
    "    def twoSum(self, nums: List[int], target: int) -> List[int]:\n",
    "        n = len(nums)\n",
    "        for i in range(n):\n",
    "            for j in range(i + 1, n):\n",
    "                if nums[i] + nums[j] == target:\n",
    "                    return [i, j]\n"
   ]
  },
  {
   "cell_type": "code",
   "execution_count": null,
   "id": "a168c719",
   "metadata": {},
   "outputs": [],
   "source": [
    "#解法2 hash\n",
    "\n",
    "class Solution:\n",
    "    def twoSum(self, nums: List[int], target: int) -> List[int]:\n",
    "        seen = {}\n",
    "        for i,num in enumerate(nums):\n",
    "            complement = target - num\n",
    "            if complement in seen:\n",
    "                return [seen[complement],i]\n",
    "            seen[num] = i\n",
    "\n"
   ]
  },
  {
   "cell_type": "code",
   "execution_count": null,
   "id": "d7823ada",
   "metadata": {},
   "outputs": [
    {
     "name": "stdout",
     "output_type": "stream",
     "text": [
      "1\n"
     ]
    },
    {
     "ename": "KeyError",
     "evalue": "1",
     "output_type": "error",
     "traceback": [
      "\u001b[1;31m---------------------------------------------------------------------------\u001b[0m",
      "\u001b[1;31mKeyError\u001b[0m                                  Traceback (most recent call last)",
      "Cell \u001b[1;32mIn[1], line 3\u001b[0m\n\u001b[0;32m      1\u001b[0m seen \u001b[38;5;241m=\u001b[39m {\u001b[38;5;124m'\u001b[39m\u001b[38;5;124ma\u001b[39m\u001b[38;5;124m'\u001b[39m:\u001b[38;5;241m1\u001b[39m,\u001b[38;5;124m'\u001b[39m\u001b[38;5;124mb\u001b[39m\u001b[38;5;124m'\u001b[39m:\u001b[38;5;241m2\u001b[39m}\n\u001b[0;32m      2\u001b[0m \u001b[38;5;28mprint\u001b[39m(seen[\u001b[38;5;124m'\u001b[39m\u001b[38;5;124ma\u001b[39m\u001b[38;5;124m'\u001b[39m])\n\u001b[1;32m----> 3\u001b[0m \u001b[38;5;28mprint\u001b[39m(seen[\u001b[38;5;241m1\u001b[39m])\n",
      "\u001b[1;31mKeyError\u001b[0m: 1"
     ]
    }
   ],
   "source": [
    "seen = {'a':1,'b':2}\n",
    "print(seen['a'])\n"
   ]
  },
  {
   "cell_type": "markdown",
   "id": "7ef6c9bf",
   "metadata": {},
   "source": [
    "字典声明 使用的是大括号 表示键值对的集合\n",
    "seen = {'a':1,'b':2}\n",
    "但是在取用的时候 使用的是【】\n",
    "dict[key] = value\n",
    "\n",
    "\n",
    "for i, num in enumerate(nums) 到底是啥？\n",
    "\n",
    "这是 Python 最常见的枚举写法。\n",
    "\n",
    "nums 是输入的数组；\n",
    "\n",
    "enumerate(nums) 会生成一个 (索引, 元素) 的元组；\n",
    "\n",
    "i 和 num 就分别接收“索引”和“数值”。\n",
    "\n",
    "key 👉 当前数字（num）\n",
    "\n",
    "value 👉 当前数字的索引（i）\n",
    "\n",
    "seen[num] = i 👉 “记录这个数字出现在第 i 个位置”\n",
    "\n",
    "if complement in seen: 👉 “看看我需要的那一半数字是不是之前见过”\n"
   ]
  }
 ],
 "metadata": {
  "kernelspec": {
   "display_name": "base",
   "language": "python",
   "name": "python3"
  },
  "language_info": {
   "codemirror_mode": {
    "name": "ipython",
    "version": 3
   },
   "file_extension": ".py",
   "mimetype": "text/x-python",
   "name": "python",
   "nbconvert_exporter": "python",
   "pygments_lexer": "ipython3",
   "version": "3.12.4"
  }
 },
 "nbformat": 4,
 "nbformat_minor": 5
}
