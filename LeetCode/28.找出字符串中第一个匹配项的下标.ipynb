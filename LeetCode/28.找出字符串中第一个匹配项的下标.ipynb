{
 "cells": [
  {
   "cell_type": "markdown",
   "id": "436dedba",
   "metadata": {},
   "source": [
    "你两个字符串 haystack 和 needle ，请你在 haystack 字符串中找出 needle 字符串的第一个匹配项的下标（下标从 0 开始）。如果 needle 不是 haystack 的一部分，则返回  -1 。\n",
    "\n",
    " \n",
    "\n",
    "示例 1：\n",
    "\n",
    "输入：haystack = \"sadbutsad\", needle = \"sad\"\n",
    "输出：0\n",
    "解释：\"sad\" 在下标 0 和 6 处匹配。\n",
    "第一个匹配项的下标是 0 ，所以返回 0 。\n",
    "示例 2：\n",
    "\n",
    "输入：haystack = \"leetcode\", needle = \"leeto\"\n",
    "输出：-1\n",
    "解释：\"leeto\" 没有在 \"leetcode\" 中出现，所以返回 -1 。\n",
    " "
   ]
  },
  {
   "cell_type": "code",
   "execution_count": null,
   "id": "4ef71f2d",
   "metadata": {},
   "outputs": [],
   "source": [
    "class Solution:\n",
    "    def strStr(self, haystack: str, needle: str) -> int:\n",
    "        def build_lps (needle:str) :\n",
    "            m = len(needle)\n",
    "            lps = [0]*m\n",
    "            j = 0\n",
    "            for i in range(1,m):\n",
    "                while j and needle[i] != needle[j]:\n",
    "                    j = lps[j-1]\n",
    "                if needle[i] == needle[j]:\n",
    "                    j += 1\n",
    "                lps[i] = j\n",
    "            return lps\n",
    "\n",
    "        def find_match (needle:str,haystack:str):\n",
    "            if not needle: return 0\n",
    "            lps = build_lps(needle)\n",
    "            j = 0\n",
    "            for i,ch in enumerate (haystack):\n",
    "                while j and ch != needle[j]:\n",
    "                    j = lps[j-1]\n",
    "                if ch == needle[j]:\n",
    "                    j += 1\n",
    "                    if j == len(needle):\n",
    "                        return i-j+1\n",
    "\n",
    "            return -1\n",
    "\n",
    "\n",
    "            \n",
    "\n",
    "        return find_match(needle,haystack)"
   ]
  }
 ],
 "metadata": {
  "kernelspec": {
   "display_name": "base",
   "language": "python",
   "name": "python3"
  },
  "language_info": {
   "name": "python",
   "version": "3.12.4"
  }
 },
 "nbformat": 4,
 "nbformat_minor": 5
}
