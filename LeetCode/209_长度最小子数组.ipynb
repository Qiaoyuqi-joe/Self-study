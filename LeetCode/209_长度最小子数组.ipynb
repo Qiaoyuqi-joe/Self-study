{
 "cells": [
  {
   "cell_type": "markdown",
   "id": "6c83363d",
   "metadata": {},
   "source": [
    "\n",
    "代码\n",
    "测试用例\n",
    "测试用例\n",
    "测试结果\n",
    "209. 长度最小的子数组\n",
    "中等\n",
    "相关标签\n",
    "premium lock icon\n",
    "相关企业\n",
    "给定一个含有 n 个正整数的数组和一个正整数 target 。\n",
    "\n",
    "找出该数组中满足其总和大于等于 target 的长度最小的 子数组 [numsl, numsl+1, ..., numsr-1, numsr] ，并返回其长度。如果不存在符合条件的子数组，返回 0 。\n",
    "\n",
    " \n",
    "\n",
    "示例 1：\n",
    "\n",
    "输入：target = 7, nums = [2,3,1,2,4,3]\n",
    "输出：2\n",
    "解释：子数组 [4,3] 是该条件下的长度最小的子数组。\n",
    "示例 2：\n",
    "\n",
    "输入：target = 4, nums = [1,4,4]\n",
    "输出：1\n",
    "示例 3：\n",
    "\n",
    "输入：target = 11, nums = [1,1,1,1,1,1,1,1]\n",
    "输出：0\n",
    " "
   ]
  },
  {
   "cell_type": "code",
   "execution_count": 2,
   "id": "37db91a0",
   "metadata": {},
   "outputs": [],
   "source": [
    "\n",
    "from typing import List\n",
    "class Solution:\n",
    "    def minSubArrayLen(self,target:int,nums:List[int]) -> int:\n",
    "        left = 0\n",
    "        n = len(nums)\n",
    "        current_sum = 0\n",
    "        ans = float('inf')\n",
    "        for right in range(n):\n",
    "            current_sum+=nums[right]\n",
    "            while current_sum >= target:\n",
    "                ans = min(ans,right-left+1)\n",
    "                current-=nums[left]\n",
    "                left+=1\n",
    "        return ans if ans!=float('inf') else 0\n"
   ]
  }
 ],
 "metadata": {
  "kernelspec": {
   "display_name": "base",
   "language": "python",
   "name": "python3"
  },
  "language_info": {
   "codemirror_mode": {
    "name": "ipython",
    "version": 3
   },
   "file_extension": ".py",
   "mimetype": "text/x-python",
   "name": "python",
   "nbconvert_exporter": "python",
   "pygments_lexer": "ipython3",
   "version": "3.12.4"
  }
 },
 "nbformat": 4,
 "nbformat_minor": 5
}
