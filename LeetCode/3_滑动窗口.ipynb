{
 "cells": [
  {
   "cell_type": "markdown",
   "id": "b567ae7e",
   "metadata": {},
   "source": [
    "3. 无重复字符的最长子串\n",
    "中等\n",
    "相关标签\n",
    "premium lock icon\n",
    "相关企业\n",
    "提示\n",
    "给定一个字符串 s ，请你找出其中不含有重复字符的 最长 子串 的长度。\n",
    "\n",
    " \n",
    "\n",
    "示例 1:\n",
    "\n",
    "输入: s = \"abcabcbb\"\n",
    "输出: 3 \n",
    "解释: 因为无重复字符的最长子串是 \"abc\"，所以其长度为 3。注意 \"bca\" 和 \"cab\" 也是正确答案。\n",
    "示例 2:\n",
    "\n",
    "输入: s = \"bbbbb\"\n",
    "输出: 1\n",
    "解释: 因为无重复字符的最长子串是 \"b\"，所以其长度为 1。\n",
    "示例 3:\n",
    "\n",
    "输入: s = \"pwwkew\"\n",
    "输出: 3\n",
    "解释: 因为无重复字符的最长子串是 \"wke\"，所以其长度为 3。\n",
    "     请注意，你的答案必须是 子串 的长度，\"pwke\" 是一个子序列，不是子串。\n",
    " "
   ]
  },
  {
   "cell_type": "code",
   "execution_count": null,
   "id": "3d97ff2c",
   "metadata": {
    "vscode": {
     "languageId": "plaintext"
    }
   },
   "outputs": [],
   "source": [
    "class Solution:\n",
    "    def lengthOfLongestSubstring(self, s: str) -> int:\n",
    "        seen = set()\n",
    "        left = 0\n",
    "        ans = 0\n",
    "        for right, ch in enumerate(s):\n",
    "            # 如果 ch 已在窗口中，收缩到合法\n",
    "            while ch in seen:\n",
    "                seen.remove(s[left])\n",
    "                left += 1\n",
    "            # 扩张\n",
    "            seen.add(ch)\n",
    "            ans = max(ans, right - left + 1)\n",
    "        return ans\n"
   ]
  }
 ],
 "metadata": {
  "language_info": {
   "name": "python"
  }
 },
 "nbformat": 4,
 "nbformat_minor": 5
}
