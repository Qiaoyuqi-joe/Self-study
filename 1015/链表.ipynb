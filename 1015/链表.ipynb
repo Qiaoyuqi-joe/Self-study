{
 "cells": [
  {
   "cell_type": "markdown",
   "id": "8d02c621",
   "metadata": {},
   "source": [
    "链表 有一个个节点构成\n",
    "\n",
    "Node 有val 还有next \n",
    "val 存储的数值\n",
    "next 指向下一个节点\n"
   ]
  },
  {
   "cell_type": "code",
   "execution_count": null,
   "id": "bc81a934",
   "metadata": {},
   "outputs": [
    {
     "name": "stdout",
     "output_type": "stream",
     "text": [
      "2\n",
      "4\n",
      "3\n"
     ]
    }
   ],
   "source": [
    "class ListNode:\n",
    "    def __init__ (self,val = 0,next=None):\n",
    "        self.val = val #当前节点数值\n",
    "        self.next = next #指向下一个节点\n",
    "\n",
    "#手动创建一个链表\n",
    "\n",
    "node3 = ListNode(3)\n",
    "node2 = ListNode(4,node3)\n",
    "node1 = ListNode(2,node2)\n",
    "\n",
    "#遍历链表\n",
    "\n",
    "p = node1\n",
    "while p:\n",
    "    print(p.val)\n",
    "    p = p.next\n",
    "#链表输出不可以想数组那样nums[0]随便取用 只能一个一个走\n",
    "\n"
   ]
  },
  {
   "cell_type": "markdown",
   "id": "b48dac6d",
   "metadata": {},
   "source": [
    "如果你用数组保存一个数：\n",
    "\n",
    "[2, 4, 3]\n",
    "\n",
    "\n",
    "其实也能表示 342。\n",
    "\n",
    "但数组是「固定结构」，加法时你可能需要“在中间插值”、“在末尾加节点”，\n",
    "链表就更灵活：\n",
    "可以随时新增节点，不用移动整个结构。"
   ]
  }
 ],
 "metadata": {
  "kernelspec": {
   "display_name": "base",
   "language": "python",
   "name": "python3"
  },
  "language_info": {
   "codemirror_mode": {
    "name": "ipython",
    "version": 3
   },
   "file_extension": ".py",
   "mimetype": "text/x-python",
   "name": "python",
   "nbconvert_exporter": "python",
   "pygments_lexer": "ipython3",
   "version": "3.12.4"
  }
 },
 "nbformat": 4,
 "nbformat_minor": 5
}
