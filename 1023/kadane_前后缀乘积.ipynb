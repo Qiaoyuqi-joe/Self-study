{
 "cells": [
  {
   "cell_type": "markdown",
   "id": "baeff7c3",
   "metadata": {},
   "source": [
    "kadane 设置两个变量\n",
    "current_max 表示当前结尾的最大和\n",
    "global_max 表示全局max\n",
    "\n",
    "current_max 比较current_max+x 和 current_max 大小 决定是继续延长还是 从下一个新开始\n",
    "\n",
    "global_max 比较current_max 和 global_max 大小 \n"
   ]
  },
  {
   "cell_type": "code",
   "execution_count": 4,
   "id": "9e750e66",
   "metadata": {},
   "outputs": [
    {
     "name": "stdout",
     "output_type": "stream",
     "text": [
      "11\n"
     ]
    }
   ],
   "source": [
    "from typing import List\n",
    "\n",
    "class Solution:\n",
    "\n",
    "    def find_max(self,nums:List[int]) -> int :\n",
    "        current_max = global_max = nums[0]\n",
    "        for i in range (1,len(nums)):\n",
    "            current_max = max(current_max+nums[i],current_max)\n",
    "            global_max = max(global_max,current_max)\n",
    "        return global_max\n",
    "\n",
    "\n",
    "solution = Solution()\n",
    "s = [1,2,-4,3,-2,5]\n",
    "print(solution.find_max(s))\n",
    "\n"
   ]
  },
  {
   "cell_type": "markdown",
   "id": "e91acc1f",
   "metadata": {},
   "source": [
    "前后缀乘积 nums[i] 除去i位所有数值的乘积 answer[i]"
   ]
  },
  {
   "cell_type": "code",
   "execution_count": null,
   "id": "195fc327",
   "metadata": {},
   "outputs": [],
   "source": [
    "class Solution:\n",
    "    def productExceptSelf(self, nums: List[int]) -> List[int]:\n",
    "        prefix = 1\n",
    "        n = len(nums)\n",
    "        answer = [1]*n\n",
    "        for i in range(n):\n",
    "            answer[i] = prefix\n",
    "            prefix *= nums[i]\n",
    "\n",
    "        suffix = 1\n",
    "        for i in range(n-1,-1,-1):\n",
    "            answer[i] *= suffix\n",
    "            suffix *= nums[i]\n",
    "        \n",
    "        return answer\n",
    "            \n",
    "            \n"
   ]
  }
 ],
 "metadata": {
  "kernelspec": {
   "display_name": "base",
   "language": "python",
   "name": "python3"
  },
  "language_info": {
   "codemirror_mode": {
    "name": "ipython",
    "version": 3
   },
   "file_extension": ".py",
   "mimetype": "text/x-python",
   "name": "python",
   "nbconvert_exporter": "python",
   "pygments_lexer": "ipython3",
   "version": "3.12.4"
  }
 },
 "nbformat": 4,
 "nbformat_minor": 5
}
