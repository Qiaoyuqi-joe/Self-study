{
 "cells": [
  {
   "cell_type": "code",
   "execution_count": null,
   "id": "a234a0a3",
   "metadata": {},
   "outputs": [],
   "source": []
  },
  {
   "cell_type": "markdown",
   "id": "872ff817",
   "metadata": {},
   "source": [
    "python把函数当做普通对象来对待 可以被赋值给变量 可以作为参数传入另一个函数 可以从函数中返回另一个函数\n"
   ]
  },
  {
   "cell_type": "code",
   "execution_count": 1,
   "id": "f8f5a872",
   "metadata": {},
   "outputs": [
    {
     "name": "stdout",
     "output_type": "stream",
     "text": [
      "Hello,alice\n"
     ]
    }
   ],
   "source": [
    "# 函数可以赋值给变量\n",
    "def greet(name):\n",
    "    return f\"Hello,{name}\"\n",
    "say_hi = greet\n",
    "print(say_hi(\"alice\"))"
   ]
  },
  {
   "cell_type": "code",
   "execution_count": 2,
   "id": "3ca157fd",
   "metadata": {},
   "outputs": [
    {
     "name": "stdout",
     "output_type": "stream",
     "text": [
      "HELLO\n",
      "hello\n"
     ]
    }
   ],
   "source": [
    "#函数可以作为参数\n",
    "def shout(text):\n",
    "    return text.upper()\n",
    "def whisper(text):\n",
    "    return text.lower()\n",
    "def speak(func,message):\n",
    "    print(func(message))\n",
    "\n",
    "speak(shout, \"hello\")\n",
    "speak(whisper, \"HELLO\")\n"
   ]
  },
  {
   "cell_type": "code",
   "execution_count": 5,
   "id": "f23f7a6c",
   "metadata": {},
   "outputs": [
    {
     "name": "stdout",
     "output_type": "stream",
     "text": [
      "5\n",
      "8\n"
     ]
    }
   ],
   "source": [
    "#函数可以返回函数\n",
    "def make_adder(x):\n",
    "    def add(y):\n",
    "        return x+y\n",
    "    return add\n",
    "\n",
    "add5 = make_adder(5)\n",
    "print(add5.__closure__[0].cell_contents)\n",
    "\n",
    "print(add5(3))"
   ]
  },
  {
   "cell_type": "code",
   "execution_count": 4,
   "id": "87a827e2",
   "metadata": {},
   "outputs": [
    {
     "name": "stdout",
     "output_type": "stream",
     "text": [
      "16\n"
     ]
    }
   ],
   "source": [
    "def apply_twice(func,x):\n",
    "    return (func(func(x)))\n",
    "\n",
    "def square(n): return n*n\n",
    "print (apply_twice(square,2))"
   ]
  },
  {
   "cell_type": "code",
   "execution_count": null,
   "id": "7c50337d",
   "metadata": {},
   "outputs": [
    {
     "name": "stdout",
     "output_type": "stream",
     "text": [
      "1\n",
      "2\n",
      "3\n"
     ]
    }
   ],
   "source": [
    "#闭包计数器\n",
    "def make_counter():\n",
    "    count = 0\n",
    "    def counter():\n",
    "        nonlocal count\n",
    "        count += 1\n",
    "        return count\n",
    "    return counter\n",
    "\n",
    "c2 = make_counter()\n",
    "print(c2())  # 1\n",
    "print(c2())  # 2\n",
    "print(c2())  # 3\n"
   ]
  },
  {
   "cell_type": "code",
   "execution_count": null,
   "id": "5551e446",
   "metadata": {},
   "outputs": [
    {
     "name": "stdout",
     "output_type": "stream",
     "text": [
      "15\n",
      "30\n"
     ]
    }
   ],
   "source": [
    "def make_multiplier(n):\n",
    "    # 返回一个函数，这个函数能把输入的值乘以 n\n",
    "    count = n\n",
    "    def  multiple(m):\n",
    "        nonlocal count#没必要  因为只是读取count数值 没有修改 只有修改才需要nonlocal\n",
    "\n",
    "        return count*m\n",
    "    return multiple\n",
    "\n",
    "times3 = make_multiplier(3)\n",
    "print(times3(5))   # 输出 15\n",
    "print(times3(10))  # 输出 30\n",
    "\n",
    "\n",
    "# def make_multiplier(n):\n",
    "#     def multiple(m):\n",
    "#         return n * m\n",
    "#     return multiple\n",
    "\n"
   ]
  },
  {
   "cell_type": "markdown",
   "id": "09c3512c",
   "metadata": {},
   "source": [
    "decorator\n",
    "装饰器 用来包装函数  \n",
    "能在不修改原函数代码的情况下 动态的增加功能\n",
    "\n"
   ]
  },
  {
   "cell_type": "code",
   "execution_count": null,
   "id": "0503b44f",
   "metadata": {},
   "outputs": [
    {
     "name": "stdout",
     "output_type": "stream",
     "text": [
      "---函数开始执行---\n",
      "Hello!\n",
      "---函数执行完毕---\n"
     ]
    }
   ],
   "source": [
    "# def greet():\n",
    "#     print(\"Hello!\")\n",
    "\n",
    "# def wrapper(func):\n",
    "#     def inner():\n",
    "#         print(\"---函数开始执行---\")\n",
    "#         func()\n",
    "#         print(\"---函数执行完毕---\")\n",
    "#     return inner\n",
    "\n",
    "\n",
    "# greet = wrapper(greet)\n",
    "\n",
    "\n",
    "# greet()\n",
    "\n",
    "    \n",
    "\n",
    "\n"
   ]
  },
  {
   "cell_type": "code",
   "execution_count": 19,
   "id": "316fb48e",
   "metadata": {},
   "outputs": [
    {
     "name": "stdout",
     "output_type": "stream",
     "text": [
      "begain\n",
      "Hello\n",
      "end\n"
     ]
    }
   ],
   "source": [
    "\n",
    "def wrapper(func):\n",
    "    def inner(*args,**kwargs):\n",
    "        print (\"begain\")\n",
    "        func(*args,**kwargs)\n",
    "        print(\"end\")\n",
    "    return inner  #不要加括号 返回的是函数对象 而不是执行的结果 \n",
    "\n",
    "\n",
    "@wrapper\n",
    "def greet():\n",
    "    print(\"Hello\")\n",
    "\n",
    "greet()\n",
    "\n",
    "#要保证装饰器函数在被使用之前定义\n",
    "    \n"
   ]
  },
  {
   "cell_type": "code",
   "execution_count": null,
   "id": "57cc8bb5",
   "metadata": {},
   "outputs": [
    {
     "name": "stdout",
     "output_type": "stream",
     "text": [
      "Hello\n",
      "Hello\n",
      "Hello\n"
     ]
    }
   ],
   "source": [
    "#携带参数的装饰器\n",
    "def repeat(n):\n",
    "    def decorator(func):\n",
    "        def inner(*args,**kwargs):\n",
    "            for _ in range(n):\n",
    "                func(*args,**kwargs)\n",
    "        return inner\n",
    "    return decorator\n",
    "\n",
    "\n",
    "@repeat(3)\n",
    "def greet():\n",
    "    print(\"Hello\")\n",
    "\n",
    "greet()\n",
    "#*args **kwargs常在装饰器使因为不知道需要被装饰的函数有多少个参数 args涵盖所有位置参数 kwargs涵盖所有关键字参数  这样可以八戒收到的所有参数都传递给被装饰的函数\n",
    "#for_inrange(n) 和for i in range(n)效果一样 _是一个占位符 这里有一个变量 但我不会用它\n"
   ]
  },
  {
   "cell_type": "code",
   "execution_count": 20,
   "id": "97711deb",
   "metadata": {},
   "outputs": [
    {
     "name": "stdout",
     "output_type": "stream",
     "text": [
      "Hello\n",
      "Hello\n",
      "Hello\n"
     ]
    }
   ],
   "source": [
    "\n",
    "def repeat(n):\n",
    "    def decorator (func):\n",
    "        def inner(*args,**kwargs):\n",
    "            for _ in range(n):\n",
    "                func(*args,**kwargs)\n",
    "        return inner\n",
    "    return decorator\n",
    "\n",
    "\n",
    "@repeat(3)\n",
    "def greet():\n",
    "    print(\"Hello\")\n",
    "\n",
    "greet()"
   ]
  }
 ],
 "metadata": {
  "kernelspec": {
   "display_name": "base",
   "language": "python",
   "name": "python3"
  },
  "language_info": {
   "codemirror_mode": {
    "name": "ipython",
    "version": 3
   },
   "file_extension": ".py",
   "mimetype": "text/x-python",
   "name": "python",
   "nbconvert_exporter": "python",
   "pygments_lexer": "ipython3",
   "version": "3.12.4"
  }
 },
 "nbformat": 4,
 "nbformat_minor": 5
}
