{
 "cells": [
  {
   "cell_type": "markdown",
   "id": "6120402c",
   "metadata": {},
   "source": [
    "KMP 的关键是对模式串预处理，计算出一个 前缀函数数组（prefix array），也叫失效函数（failure function）。该数组的每个元素 \n",
    "\n",
    "prefix[i] 表示：模式串中前 i+1 个字符组成的子串中，最长的「相等前缀」和「相等后缀」的长度。\n",
    "\n",
    "前缀：从第一个字符开始的连续子串（不包含最后一个字符）。\n",
    "\n",
    "后缀：以最后一个字符结束的连续子串（不包含第一个字符）。\n",
    "\n",
    "示例：模式串 ABABC\n",
    "计算其前缀函数 prefix 数组（索引从 0 开始）：\n",
    "\n",
    "prefix[0]（子串 A）：无前后缀，值为 0。\n",
    "\n",
    "prefix[1]（子串 AB）：前缀 A vs 后缀 B，不等，值为 0。\n",
    "\n",
    "prefix[2]（子串 ABA）：前缀 A vs 后缀 A，相等，长度 1，值为 1。\n",
    "\n",
    "prefix[3]（子串 ABAB）：前缀 AB vs 后缀 AB，相等，长度 2，值为 2。\n",
    "\n",
    "prefix[4]（子串 ABABC）：前缀 A/AB/ABA 与后缀 C/BC/ABC 均不等，值为 0。\n",
    "\n",
    "因此 prefix = [0, 0, 1, 2, 0]。\n",
    "\n",
    "\n",
    "初始化 prefix[0] = 0（单个字符无前后缀）。\n",
    "\n",
    "设 j = 0（用于记录当前最长前缀的长度），遍历模式串从索引 i = 1 开始：\n",
    "\n",
    "若 pattern[i] == pattern[j]：j += 1，prefix[i] = j，继续下一个 i。\n",
    "\n",
    "若不相等：\n",
    "若 j > 0，则令 j = prefix[j-1]（回溯到上一个可能的最长前缀），重复比较。\n",
    "\n",
    "若 j == 0，则 prefix[i] = 0，继续下一个 i。"
   ]
  },
  {
   "cell_type": "code",
   "execution_count": null,
   "id": "74135e3a",
   "metadata": {},
   "outputs": [],
   "source": []
  },
  {
   "cell_type": "markdown",
   "id": "ff5264fc",
   "metadata": {},
   "source": [
    "prefix[k]的概念是 子串【0.。。k】的最长的前缀后缀长度j 所以当找不到下一个对应的数值 改用j-1 用子串【0.。。j-1】最长的前后缀长度 此时大概率回退到这个地方是最省事的 那就是j =prefix[j-1]"
   ]
  },
  {
   "cell_type": "markdown",
   "id": "55aa2028",
   "metadata": {},
   "source": []
  },
  {
   "cell_type": "code",
   "execution_count": null,
   "id": "971b217a",
   "metadata": {},
   "outputs": [],
   "source": [
    "def compute_prefix(pattern):\n",
    "    m = len(pattern)\n",
    "    prefix = [0]*m\n",
    "    j = 0\n",
    "    for i in range (1,m):\n",
    "        while j>0 and pattern[i] != pattern[j]:\n",
    "            j = \n"
   ]
  }
 ],
 "metadata": {
  "kernelspec": {
   "display_name": "base",
   "language": "python",
   "name": "python3"
  },
  "language_info": {
   "name": "python",
   "version": "3.12.4"
  }
 },
 "nbformat": 4,
 "nbformat_minor": 5
}
