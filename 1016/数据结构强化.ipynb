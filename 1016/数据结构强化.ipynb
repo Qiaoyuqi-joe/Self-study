{
 "cells": [
  {
   "cell_type": "markdown",
   "id": "5a4ef1b2",
   "metadata": {},
   "source": [
    "python数据结构\n",
    "\n",
    "结构\t特点\t常用操作\t时间复杂度\n",
    "list\t动态数组\tappend / pop / slice\tO(1) / O(1) / O(n)\n",
    "dict\t哈希表\t查找 / 插入 / 删除\tO(1) 平均\n",
    "set\t无序去重集合\tin / add / remove\tO(1)\n",
    "tuple\t不可变序列\t只读访问\tO(1)"
   ]
  },
  {
   "cell_type": "code",
   "execution_count": null,
   "id": "8919a882",
   "metadata": {},
   "outputs": [],
   "source": [
    "#list 列表\n",
    "\n",
    "nums = [10,20,30]\n",
    "nums.append(40) #末尾添加\n",
    "nums.pop() #删除末尾\n",
    "nums.insert(1,99) #中间插入\n",
    "nums[i] #随机访问\n",
    "for x in nums #遍历\n",
    "\n",
    "#tuple 元组\n",
    "#是不可变的列表\n",
    "t = (1,2,3)\n",
    "print(t[0])\n",
    "\n",
    "#set集合 \n",
    "s = {1,2,3}\n",
    "s.add(4)\n",
    "s.remove(1)\n",
    "print(2 in s)  #返回true\n",
    "\n",
    "#dict \n",
    "person = {'name':'Alice','age':'20'}\n",
    "person['city'] = 'Beijing'\n",
    "print(person['age'])\n",
    "\n",
    "d[key] = val #插入、修改\n",
    "d[key]\n",
    "del d[key]#删除\n",
    "for k,v in d.items() #遍历\n",
    "\n",
    "\n"
   ]
  }
 ],
 "metadata": {
  "kernelspec": {
   "display_name": "base",
   "language": "python",
   "name": "python3"
  },
  "language_info": {
   "name": "python",
   "version": "3.12.4"
  }
 },
 "nbformat": 4,
 "nbformat_minor": 5
}
