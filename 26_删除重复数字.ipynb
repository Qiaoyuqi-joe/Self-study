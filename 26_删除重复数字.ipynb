{
 "cells": [
  {
   "cell_type": "markdown",
   "id": "23b591d5",
   "metadata": {},
   "source": [
    "给你一个 非严格递增排列 的数组 nums ，请你 原地 删除重复出现的元素，使每个元素 只出现一次 ，返回删除后数组的新长度。元素的 相对顺序 应该保持 一致 。然后返回 nums 中唯一元素的个数。\n",
    "\n",
    "考虑 nums 的唯一元素的数量为 k ，你需要做以下事情确保你的题解可以被通过：\n",
    "\n",
    "更改数组 nums ，使 nums 的前 k 个元素包含唯一元素，并按照它们最初在 nums 中出现的顺序排列。nums 的其余元素与 nums 的大小不重要。\n",
    "返回 k 。"
   ]
  },
  {
   "cell_type": "code",
   "execution_count": 1,
   "id": "f12c944d",
   "metadata": {},
   "outputs": [
    {
     "name": "stdout",
     "output_type": "stream",
     "text": [
      "3\n"
     ]
    }
   ],
   "source": [
    "\n",
    "from typing import List\n",
    "class Solution:\n",
    "    def removeDuplicates(self, nums:List[int])->int:\n",
    "        if not nums:\n",
    "            return 0\n",
    "        slow = 0\n",
    "        for fast in range(1,len(nums)):\n",
    "            if nums[slow] != nums[fast]:\n",
    "                slow += 1\n",
    "                nums[slow]=nums[fast]\n",
    "        return slow+1\n",
    "\n",
    "solution = Solution()\n",
    "x = [1,1,2,2,2,3]\n",
    "print(solution.removeDuplicates(x))\n"
   ]
  }
 ],
 "metadata": {
  "kernelspec": {
   "display_name": "base",
   "language": "python",
   "name": "python3"
  },
  "language_info": {
   "codemirror_mode": {
    "name": "ipython",
    "version": 3
   },
   "file_extension": ".py",
   "mimetype": "text/x-python",
   "name": "python",
   "nbconvert_exporter": "python",
   "pygments_lexer": "ipython3",
   "version": "3.12.4"
  }
 },
 "nbformat": 4,
 "nbformat_minor": 5
}
