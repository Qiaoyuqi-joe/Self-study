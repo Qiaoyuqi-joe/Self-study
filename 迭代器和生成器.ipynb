{
 "cells": [
  {
   "cell_type": "markdown",
   "metadata": {},
   "source": [
    "2025/10/13\n",
    "\n",
    "掌握迭代器 (__iter__, __next__) 的机制\n",
    "\n",
    "理解生成器 (yield) 的本质与优势\n",
    "\n",
    "体会 Python 的「协议导向设计」和「惰性求值」特性\n",
    "\n",
    "写一个小练习：生成器版文件行统计脚本\n",
    "\n",
    "刷 2 道数组题热身（Two Sum + Remove Duplicates）\n"
   ]
  },
  {
   "cell_type": "markdown",
   "metadata": {},
   "source": [
    "迭代器 Iterator 可以按顺序取出元素的对象\n"
   ]
  },
  {
   "cell_type": "code",
   "execution_count": null,
   "metadata": {},
   "outputs": [
    {
     "name": "stdout",
     "output_type": "stream",
     "text": [
      "10\n",
      "20\n",
      "30\n"
     ]
    },
    {
     "ename": "StopIteration",
     "evalue": "",
     "output_type": "error",
     "traceback": [
      "\u001b[1;31m---------------------------------------------------------------------------\u001b[0m",
      "\u001b[1;31mStopIteration\u001b[0m                             Traceback (most recent call last)",
      "Cell \u001b[1;32mIn[1], line 7\u001b[0m\n\u001b[0;32m      5\u001b[0m \u001b[38;5;28mprint\u001b[39m(\u001b[38;5;28mnext\u001b[39m(it))\n\u001b[0;32m      6\u001b[0m \u001b[38;5;28mprint\u001b[39m(\u001b[38;5;28mnext\u001b[39m(it))\n\u001b[1;32m----> 7\u001b[0m \u001b[38;5;28mprint\u001b[39m(\u001b[38;5;28mnext\u001b[39m(it))\n",
      "\u001b[1;31mStopIteration\u001b[0m: "
     ]
    }
   ],
   "source": [
    "nums = [10,20,30]\n",
    "it = iter(nums)\n",
    "\n",
    "print(next(it))\n",
    "print(next(it))\n",
    "print(next(it))\n",
    "#print(next(it))\n",
    "#iter(nums)调用的nums._iter_()\n",
    "#next(it)调用的it._next_()"
   ]
  },
  {
   "cell_type": "code",
   "execution_count": null,
   "metadata": {},
   "outputs": [
    {
     "name": "stdout",
     "output_type": "stream",
     "text": [
      "3\n",
      "2\n",
      "1\n"
     ]
    }
   ],
   "source": [
    "#自定义迭代器\n",
    "class CountDown:\n",
    "    def __init__(self,start):#当使用CountDown（3）的时候 start就是3创建对象并保存self.current = 3\n",
    "        self.current = start #self.current相当于计数器\n",
    "    def __iter__(self):#_iter_()是可迭代协议的一部分\n",
    "        return self#返回自身 迭代器协议\n",
    "    def __next__(self):#返回下一个元素\n",
    "        if self.current<=0:\n",
    "            raise StopIteration\n",
    "        val = self.current\n",
    "        self.current-=1\n",
    "        return val\n",
    "    \n",
    "for x in CountDown(3):\n",
    "    print(x)"
   ]
  },
  {
   "cell_type": "markdown",
   "metadata": {},
   "source": [
    "生成器 Generator\n",
    "是迭代器的特殊形式\n",
    "生成器是“自动帮你写好 __iter__ 和 __next__ 的迭代器”。"
   ]
  },
  {
   "cell_type": "code",
   "execution_count": null,
   "metadata": {},
   "outputs": [
    {
     "name": "stdout",
     "output_type": "stream",
     "text": [
      "<generator object countdown at 0x000001A9BE123100>\n",
      "3\n",
      "2\n",
      "1\n"
     ]
    }
   ],
   "source": [
    "def countdown(n):\n",
    "    while n>0:\n",
    "        yield n\n",
    "        n -=1\n",
    "\n",
    "g = countdown(3)#调用不会立刻执行整个函数 要真正取值需要调用next\n",
    "print(g)        # <generator object countdown at 0x...>\n",
    "print(next(g))  # 3\n",
    "print(next(g))  # 2\n",
    "print(next(g))  # 1\n",
    "#print(next(g))  # StopIteration\n"
   ]
  },
  {
   "cell_type": "code",
   "execution_count": 11,
   "metadata": {},
   "outputs": [
    {
     "name": "stdout",
     "output_type": "stream",
     "text": [
      "5\n",
      "4\n",
      "3\n",
      "2\n",
      "1\n"
     ]
    }
   ],
   "source": [
    "# 练习 1：CountDown 倒计时迭代器\n",
    "\n",
    "# 从 n 开始，每次迭代输出 n, n-1, …, 1，然后停止。\n",
    "\n",
    "# 💡 思路：\n",
    "\n",
    "# 初始化保存当前值；\n",
    "\n",
    "# 每次 next() 输出当前值并减 1；\n",
    "\n",
    "# 到 0 时抛 StopIteration。\n",
    "\n",
    "class CountDown:\n",
    "    def __init__(self, start):\n",
    "        self.count = start\n",
    "\n",
    "    def __iter__(self):\n",
    "        return self\n",
    "\n",
    "    def __next__(self):\n",
    "        if self.count <= 0:\n",
    "            raise StopIteration\n",
    "        val = self.count\n",
    "        self.count-=1\n",
    "        return val\n",
    "\n",
    "\n",
    "for x in CountDown(5):\n",
    "    print(x)\n",
    "\n"
   ]
  },
  {
   "cell_type": "code",
   "execution_count": null,
   "metadata": {},
   "outputs": [
    {
     "name": "stdout",
     "output_type": "stream",
     "text": [
      "30\n",
      "20\n",
      "10\n"
     ]
    }
   ],
   "source": [
    "# 练习 2：ReverseList 反向遍历迭代器\n",
    "\n",
    "# 实现一个类，接受一个列表参数，然后 for 时从后往前输出。\n",
    "\n",
    "# 💡 思路：\n",
    "\n",
    "# 保存列表和当前索引；\n",
    "\n",
    "# 从最后一个元素开始；\n",
    "\n",
    "# 每次 __next__() 返回一个值并向前移动索引；\n",
    "\n",
    "# 结束条件是索引 < 0。\n",
    "class ReverseList:\n",
    "    def __init__(self,data):\n",
    "        self.data = data #保存列表\n",
    "        self.index = len(data)-1 #start from the lastest\n",
    "    def __iter__(self):\n",
    "        return self #return the itereation self\n",
    "    def __next__(self):\n",
    "        if self.index< 0:#关于为什么是小于0 len(data)=3 索引 0 1 2 所以前面self.index=len(data)-1 这里是<0\n",
    "            raise StopIteration\n",
    "        val = self.data[self.index]#get the current value\n",
    "        self.index -= 1\n",
    "        return val\n",
    "\n",
    "for x in ReverseList([10, 20, 30]):\n",
    "    print(x)\n"
   ]
  },
  {
   "cell_type": "code",
   "execution_count": 20,
   "metadata": {},
   "outputs": [
    {
     "name": "stdout",
     "output_type": "stream",
     "text": [
      "2\n",
      "4\n",
      "6\n"
     ]
    }
   ],
   "source": [
    "# 练习 3：EvenIterator 偶数迭代器\n",
    "\n",
    "# 迭代器接收一个列表，只输出其中的偶数。\n",
    "\n",
    "# 💡 思路：\n",
    "\n",
    "# 维护原列表；\n",
    "\n",
    "# __next__() 跳过奇数；\n",
    "\n",
    "# 没有偶数时触发 StopIteration。\n",
    "class EvenIterator:\n",
    "    def __init__(self, nums):\n",
    "        self.data = nums\n",
    "        self.index = 0\n",
    "\n",
    "    def __iter__(self):\n",
    "        return self\n",
    "\n",
    "    def __next__(self):\n",
    "        while self.index<len(self.data):\n",
    "            val = self.data[self.index]\n",
    "            self.index+=1\n",
    "            if val%2 ==0:\n",
    "                return val\n",
    "        raise StopIteration\n",
    "                \n",
    "            \n",
    "        \n",
    "\n",
    "for x in EvenIterator([1, 2, 3, 4, 6]):\n",
    "    print(x)\n"
   ]
  },
  {
   "cell_type": "code",
   "execution_count": 22,
   "metadata": {},
   "outputs": [
    {
     "name": "stdout",
     "output_type": "stream",
     "text": [
      "0\n",
      "1\n",
      "1\n",
      "2\n",
      "3\n",
      "5\n",
      "8\n",
      "13\n"
     ]
    }
   ],
   "source": [
    "# 练习 4：FibonacciIterator 斐波那契迭代器\n",
    "\n",
    "# 实现一个能返回前 N 个斐波那契数的迭代器。\n",
    "\n",
    "# 💡 思路：\n",
    "\n",
    "# 状态：a, b, count, max；\n",
    "\n",
    "# 每次返回当前 a；\n",
    "\n",
    "# 下一步更新 (a, b) = (b, a+b)；\n",
    "\n",
    "# 超出次数后抛 StopIteration。\n",
    "\n",
    "\n",
    "class FibonacciIterator:\n",
    "    def __init__(self, n):\n",
    "        self.n = n\n",
    "        self.a = 0\n",
    "        self.b = 1\n",
    "        self.count = 0\n",
    "\n",
    "    def __iter__(self):\n",
    "        return self\n",
    "\n",
    "    def __next__(self):\n",
    "        if self.count>=self.n:\n",
    "            raise StopIteration\n",
    "        val = self.a\n",
    "        self.a, self.b = self.b, self.a+self.b\n",
    "        self.count+=1\n",
    "        return val\n",
    "\n",
    "\n",
    "for num in FibonacciIterator(8):\n",
    "    print(num)\n"
   ]
  },
  {
   "cell_type": "code",
   "execution_count": 24,
   "metadata": {},
   "outputs": [
    {
     "name": "stdout",
     "output_type": "stream",
     "text": [
      "111111111111111\n",
      "21222222222222222222\n",
      "3433333333333333333333\n",
      "4444444444\n",
      "555555556\n",
      "666666666\n"
     ]
    }
   ],
   "source": [
    "# 练习 5：FileLineIterator 文件行迭代器\n",
    "\n",
    "# 实现一个迭代器，逐行读取文件内容（模拟 for line in open() 的行为）。\n",
    "\n",
    "# 💡 思路：\n",
    "\n",
    "# 在 __init__ 中打开文件；\n",
    "\n",
    "# __next__() 每次读一行；\n",
    "\n",
    "# 文件结尾（''）时抛 StopIteration；\n",
    "\n",
    "# 可选：在 __del__() 里关闭文件。\n",
    "\n",
    "class FileLineIterator:\n",
    "    def __init__(self, filepath):\n",
    "        self.file = open(filepath,\"r\",encoding=\"utf-8\")\n",
    "\n",
    "    def __iter__(self):\n",
    "        return self\n",
    "\n",
    "    def __next__(self):\n",
    "        line = self.file.readline()\n",
    "        if not line:\n",
    "            self.file.close()\n",
    "            raise StopIteration\n",
    "        return line\n",
    "\n",
    "for line in FileLineIterator(\"example.txt\"):\n",
    "    print(line.strip())\n"
   ]
  },
  {
   "cell_type": "code",
   "execution_count": null,
   "metadata": {},
   "outputs": [
    {
     "name": "stdout",
     "output_type": "stream",
     "text": [
      "HELLO\n",
      "PYTHON\n",
      "OPENAI\n"
     ]
    }
   ],
   "source": [
    "# #关于生成管道组合 它让你能像“流水线”一样，一步步加工数据，\n",
    "# 我们要做的任务是：\n",
    "\n",
    "# 读出所有行；\n",
    "\n",
    "# 去掉空行；\n",
    "\n",
    "# 把所有字母转成大写；\n",
    "\n",
    "# 打印输出。\n",
    "def read_lines(path):\n",
    "    with open(path,\"r\",encoding=\"utf-8\") as f:\n",
    "        for line in f:\n",
    "            yield line.strip()#yield 可以一行一行返回文本 line.strip()可以去除换行符\n",
    "\n",
    "def non_empty(lines):\n",
    "    for line in lines:\n",
    "        if line:#空字符串false 只把非空传下去\n",
    "\n",
    "            yield line\n",
    "def to_upper(lines):\n",
    "    for line in lines:\n",
    "        yield line.upper()\n",
    "\n",
    "for line in to_upper(non_empty(read_lines(\"data.txt\"))):\n",
    "    print(line)\n",
    "\n",
    "    #所以整个过程是一层层懒加载的，不会提前处理所有数据。"
   ]
  }
 ],
 "metadata": {
  "kernelspec": {
   "display_name": "base",
   "language": "python",
   "name": "python3"
  },
  "language_info": {
   "codemirror_mode": {
    "name": "ipython",
    "version": 3
   },
   "file_extension": ".py",
   "mimetype": "text/x-python",
   "name": "python",
   "nbconvert_exporter": "python",
   "pygments_lexer": "ipython3",
   "version": "3.12.4"
  }
 },
 "nbformat": 4,
 "nbformat_minor": 4
}
