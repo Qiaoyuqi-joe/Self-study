{
 "cells": [
  {
   "cell_type": "markdown",
   "id": "244d71d4",
   "metadata": {},
   "source": [
    "给定两个字符串 s 和 t ，编写一个函数来判断 t 是否是 s 的 字母异位词。\n",
    "\n",
    " \n",
    "\n",
    "示例 1:\n",
    "\n",
    "输入: s = \"anagram\", t = \"nagaram\"\n",
    "输出: true\n",
    "示例 2:\n",
    "\n",
    "输入: s = \"rat\", t = \"car\"\n",
    "输出: false\n",
    " \n",
    "\n",
    "提示:\n",
    "\n",
    "1 <= s.length, t.length <= 5 * 104\n",
    "s 和 t 仅包含小写字母"
   ]
  },
  {
   "cell_type": "code",
   "execution_count": 2,
   "id": "f33bf3c3",
   "metadata": {},
   "outputs": [
    {
     "name": "stdout",
     "output_type": "stream",
     "text": [
      "False\n"
     ]
    }
   ],
   "source": [
    "class Solution:\n",
    "    def isAnagram(self,s:str,t:str) -> bool:\n",
    "        return sorted(s) == sorted(t)\n",
    "\n",
    "\n",
    "solution = Solution()\n",
    "s = \"rat\"\n",
    "t = \"car\"\n",
    "print(solution.isAnagram(s,t))"
   ]
  },
  {
   "cell_type": "code",
   "execution_count": 4,
   "id": "f6b96c45",
   "metadata": {},
   "outputs": [
    {
     "name": "stdout",
     "output_type": "stream",
     "text": [
      "False\n"
     ]
    }
   ],
   "source": [
    "class Solution:\n",
    "    def isAnagram(self, s: str, t: str) -> bool:\n",
    "        if len(s) != len(t):\n",
    "            return False\n",
    "        \n",
    "        count = {}\n",
    "\n",
    "        for ch in s:\n",
    "            count[ch] = count.get(ch,0)+1\n",
    "\n",
    "        for ch in t:\n",
    "            if ch not in count:\n",
    "                return  False\n",
    "            count[ch] -= 1\n",
    "            if count[ch] < 0:\n",
    "                return False\n",
    "            \n",
    "        return True\n",
    "\n",
    "\n",
    "\n",
    "\n",
    "solution = Solution()\n",
    "s = \"rat\"\n",
    "t = \"car\"\n",
    "print(solution.isAnagram(s,t))\n",
    "\n",
    "            "
   ]
  },
  {
   "cell_type": "markdown",
   "id": "209e4dd9",
   "metadata": {},
   "source": [
    "count.get(ch,0)\n",
    "\n",
    "dict.get((key,default) 字典的方法 用来查找key对应的数值 如果没有数值就返回default\n"
   ]
  },
  {
   "cell_type": "code",
   "execution_count": 5,
   "id": "ceeeb0fc",
   "metadata": {},
   "outputs": [
    {
     "name": "stdout",
     "output_type": "stream",
     "text": [
      "False\n"
     ]
    }
   ],
   "source": [
    "class Solution:\n",
    "    def isAnagram(self, s: str, t: str) -> bool:\n",
    "        if len(s)!=len(t):\n",
    "            return False\n",
    "        count={}\n",
    "        for ch in s:\n",
    "            count[ch]=count.get(ch,0)+1\n",
    "        \n",
    "        for ch in t:\n",
    "            if ch not in count:\n",
    "                return False\n",
    "            count[ch] -= 1\n",
    "            if count[ch] < 0:\n",
    "                return False\n",
    "        return True\n",
    "\n",
    "\n",
    "\n",
    "\n",
    "solution = Solution()\n",
    "s = \"rat\"\n",
    "t = \"car\"\n",
    "print(solution.isAnagram(s,t))\n",
    "\n",
    "            \n",
    "\n"
   ]
  }
 ],
 "metadata": {
  "kernelspec": {
   "display_name": "base",
   "language": "python",
   "name": "python3"
  },
  "language_info": {
   "codemirror_mode": {
    "name": "ipython",
    "version": 3
   },
   "file_extension": ".py",
   "mimetype": "text/x-python",
   "name": "python",
   "nbconvert_exporter": "python",
   "pygments_lexer": "ipython3",
   "version": "3.12.4"
  }
 },
 "nbformat": 4,
 "nbformat_minor": 5
}
