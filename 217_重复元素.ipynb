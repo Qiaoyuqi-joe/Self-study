{
 "cells": [
  {
   "cell_type": "markdown",
   "id": "97c2cf04",
   "metadata": {},
   "source": [
    "给你一个整数数组 nums 。如果任一值在数组中出现 至少两次 ，返回 true ；如果数组中每个元素互不相同，返回 false 。\n",
    " \n",
    "\n",
    "示例 1：\n",
    "\n",
    "输入：nums = [1,2,3,1]\n",
    "\n",
    "输出：true\n",
    "\n",
    "解释：\n",
    "\n",
    "元素 1 在下标 0 和 3 出现。\n",
    "\n",
    "示例 2：\n",
    "\n",
    "输入：nums = [1,2,3,4]\n",
    "\n",
    "输出：false\n",
    "\n",
    "解释：\n",
    "\n",
    "所有元素都不同。\n",
    "\n",
    "示例 3：\n",
    "\n",
    "输入：nums = [1,1,1,3,3,4,3,2,4,2]\n",
    "\n",
    "输出：true"
   ]
  },
  {
   "cell_type": "code",
   "execution_count": 1,
   "id": "c69150fb",
   "metadata": {},
   "outputs": [
    {
     "name": "stdout",
     "output_type": "stream",
     "text": [
      "True\n"
     ]
    }
   ],
   "source": [
    "from typing import List\n",
    "\n",
    "class Solution:\n",
    "    def containDuplicate(self,nums:List[int]) -> bool:\n",
    "        for i in range(len(nums)):\n",
    "            for j in range(i+1,len(nums)):\n",
    "                if nums[i]==nums[j]:\n",
    "                    return True\n",
    "        return False\n",
    "\n",
    "\n",
    "#关于函数调用 containDuplicate 是类Solution里面的函数 所以要先创建Solution类的实例 在通过实例创建函数\n",
    "solution = Solution()\n",
    "#通过实例调用方法\n",
    "result = solution.containDuplicate([1,2,3,1])\n",
    "\n",
    "print(result)\n",
    "\n",
    "\n"
   ]
  },
  {
   "cell_type": "code",
   "execution_count": 2,
   "id": "b9c3543d",
   "metadata": {},
   "outputs": [
    {
     "name": "stdout",
     "output_type": "stream",
     "text": [
      "True\n"
     ]
    }
   ],
   "source": [
    "#使用hashcode怎么写函数\n",
    "\n",
    "from typing import List\n",
    "\n",
    "class Solution:\n",
    "    def containDuplicate(self,nums:List[int]) -> bool:\n",
    "        #如果使用hash 就用集合\n",
    "        seen = set()\n",
    "        for num in nums:\n",
    "            if num in seen:\n",
    "                return True\n",
    "            seen.add(num)\n",
    "        return False\n",
    "    \n",
    "    solution = Solution()\n",
    "    result = solution.containDuplicate([1,2,3,1])\n",
    "    print(result)"
   ]
  },
  {
   "cell_type": "markdown",
   "id": "167b12aa",
   "metadata": {},
   "source": [
    "关于为什么使用set 只需要存储和检查元素是否存在 而不需要映射关系"
   ]
  }
 ],
 "metadata": {
  "kernelspec": {
   "display_name": "base",
   "language": "python",
   "name": "python3"
  },
  "language_info": {
   "codemirror_mode": {
    "name": "ipython",
    "version": 3
   },
   "file_extension": ".py",
   "mimetype": "text/x-python",
   "name": "python",
   "nbconvert_exporter": "python",
   "pygments_lexer": "ipython3",
   "version": "3.12.4"
  }
 },
 "nbformat": 4,
 "nbformat_minor": 5
}
